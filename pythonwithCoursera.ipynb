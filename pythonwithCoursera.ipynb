{
  "nbformat": 4,
  "nbformat_minor": 0,
  "metadata": {
    "colab": {
      "name": "pythonwithCoursera.ipynb",
      "provenance": [],
      "authorship_tag": "ABX9TyMgl+bpgIgqsBaLeJSI1SMt",
      "include_colab_link": true
    },
    "kernelspec": {
      "name": "python3",
      "display_name": "Python 3"
    }
  },
  "cells": [
    {
      "cell_type": "markdown",
      "metadata": {
        "id": "view-in-github",
        "colab_type": "text"
      },
      "source": [
        "<a href=\"https://colab.research.google.com/github/satyampatelgithub/ibm/blob/master/pythonwithCoursera.ipynb\" target=\"_parent\"><img src=\"https://colab.research.google.com/assets/colab-badge.svg\" alt=\"Open In Colab\"/></a>"
      ]
    },
    {
      "cell_type": "code",
      "metadata": {
        "id": "KXERvQoVtcXo",
        "colab_type": "code",
        "colab": {}
      },
      "source": [
        ""
      ],
      "execution_count": null,
      "outputs": []
    },
    {
      "cell_type": "markdown",
      "metadata": {
        "id": "vEmjjwRpuk9B",
        "colab_type": "text"
      },
      "source": [
        "script: it's a short cycle program that can be written simply.\n",
        "Automation: the process of replacinig a manual step with one that happens automatically.\n"
      ]
    }
  ]
}