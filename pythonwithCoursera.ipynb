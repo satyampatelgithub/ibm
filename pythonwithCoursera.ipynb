{
  "nbformat": 4,
  "nbformat_minor": 0,
  "metadata": {
    "colab": {
      "name": "pythonwithCoursera.ipynb",
      "provenance": [],
      "authorship_tag": "ABX9TyO/KS0ZGXeWEi8456ojwNo5",
      "include_colab_link": true
    },
    "kernelspec": {
      "name": "python3",
      "display_name": "Python 3"
    }
  },
  "cells": [
    {
      "cell_type": "markdown",
      "metadata": {
        "id": "view-in-github",
        "colab_type": "text"
      },
      "source": [
        "<a href=\"https://colab.research.google.com/github/satyampatelgithub/ibm/blob/master/pythonwithCoursera.ipynb\" target=\"_parent\"><img src=\"https://colab.research.google.com/assets/colab-badge.svg\" alt=\"Open In Colab\"/></a>"
      ]
    },
    {
      "cell_type": "code",
      "metadata": {
        "id": "KXERvQoVtcXo",
        "colab_type": "code",
        "colab": {}
      },
      "source": [
        ""
      ],
      "execution_count": null,
      "outputs": []
    },
    {
      "cell_type": "markdown",
      "metadata": {
        "id": "cX2-xxTTJUfq",
        "colab_type": "text"
      },
      "source": [
        "This is test for publishing the google collab notebook to github."
      ]
    },
    {
      "cell_type": "markdown",
      "metadata": {
        "id": "t9uy4CMsJTg3",
        "colab_type": "text"
      },
      "source": [
        ""
      ]
    },
    {
      "cell_type": "code",
      "metadata": {
        "id": "VLXUKpJbJloH",
        "colab_type": "code",
        "colab": {
          "base_uri": "https://localhost:8080/",
          "height": 34
        },
        "outputId": "d3ad96f1-c5d4-4b08-bcbb-c8094b5a66ae"
      },
      "source": [
        "print('This is the working proof of repository')"
      ],
      "execution_count": 3,
      "outputs": [
        {
          "output_type": "stream",
          "text": [
            "This is the working proof of repository\n"
          ],
          "name": "stdout"
        }
      ]
    },
    {
      "cell_type": "markdown",
      "metadata": {
        "id": "vEmjjwRpuk9B",
        "colab_type": "text"
      },
      "source": [
        "script: it's a short cycle program that can be written simply.\n",
        "Automation: the process of replacinig a manual step with one that happens automatically.\n"
      ]
    },
    {
      "cell_type": "code",
      "metadata": {
        "id": "KtAbbof6J2IQ",
        "colab_type": "code",
        "colab": {
          "base_uri": "https://localhost:8080/",
          "height": 129
        },
        "outputId": "c99fa69e-5579-419b-9fd5-263b510e8459"
      },
      "source": [
        "git clone https://github.com/satyampatelgithub/ibm.git"
      ],
      "execution_count": 4,
      "outputs": [
        {
          "output_type": "error",
          "ename": "SyntaxError",
          "evalue": "ignored",
          "traceback": [
            "\u001b[0;36m  File \u001b[0;32m\"<ipython-input-4-a1e78e422948>\"\u001b[0;36m, line \u001b[0;32m1\u001b[0m\n\u001b[0;31m    git clone https://github.com/satyampatelgithub/ibm.git\u001b[0m\n\u001b[0m            ^\u001b[0m\n\u001b[0;31mSyntaxError\u001b[0m\u001b[0;31m:\u001b[0m invalid syntax\n"
          ]
        }
      ]
    }
  ]
}